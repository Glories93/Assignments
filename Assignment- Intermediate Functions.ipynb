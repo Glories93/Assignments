{
 "cells": [
  {
   "cell_type": "markdown",
   "id": "2d5db1d4",
   "metadata": {},
   "source": [
    "#### 1. Update Values in Dictionaries and Lists"
   ]
  },
  {
   "cell_type": "code",
   "execution_count": 1,
   "id": "f6562cc8",
   "metadata": {},
   "outputs": [],
   "source": [
    "x = [[5,2,3], [10,8,9]]\n",
    "\n",
    "students = [\n",
    "    {'first_name': 'Micheal', 'last_name': 'Jordan'},\n",
    "     {'first_name': 'John', 'last_name': 'Rosles'}\n",
    "    \n",
    "]\n",
    "\n",
    "sports_directory = {\n",
    "    'basketball': ['Kobe', 'Jordan', 'James', 'Curry'],\n",
    "    'soccer': ['Messi', 'Ronaldo', 'Rooney']\n",
    "}\n",
    "\n",
    "z = [{'x': 10, 'y': 20}]"
   ]
  },
  {
   "cell_type": "code",
   "execution_count": 2,
   "id": "49c64f5c",
   "metadata": {},
   "outputs": [
    {
     "data": {
      "text/plain": [
       "[[5, 2, 3], [15, 8, 9]]"
      ]
     },
     "execution_count": 2,
     "metadata": {},
     "output_type": "execute_result"
    }
   ],
   "source": [
    "# 1.1 Change the value 10 in x to 15.\n",
    "\n",
    "x[1][0]= 15 #Change 10 to 15 \n",
    "x"
   ]
  },
  {
   "cell_type": "code",
   "execution_count": 3,
   "id": "2c49b138",
   "metadata": {},
   "outputs": [
    {
     "data": {
      "text/plain": [
       "[{'first_name': 'Micheal', 'last_name': 'Bryant'},\n",
       " {'first_name': 'John', 'last_name': 'Rosles'}]"
      ]
     },
     "execution_count": 3,
     "metadata": {},
     "output_type": "execute_result"
    }
   ],
   "source": [
    "# 1.2 Change the last_name of the first student from 'Jordan' to 'Bryant'\n",
    "#list of dict\n",
    "students[0]['last_name'] = 'Bryant'\n",
    "\n",
    "students"
   ]
  },
  {
   "cell_type": "code",
   "execution_count": 4,
   "id": "71d139ae",
   "metadata": {},
   "outputs": [
    {
     "data": {
      "text/plain": [
       "{'basketball': ['Kobe', 'Jordan', 'James', 'Curry'],\n",
       " 'soccer': ['Andres', 'Ronaldo', 'Rooney']}"
      ]
     },
     "execution_count": 4,
     "metadata": {},
     "output_type": "execute_result"
    }
   ],
   "source": [
    "# 1.3 In the sports_directory, change 'Messi' to 'Andres'\n",
    "#dict and list of values\n",
    "sports_directory['soccer'][0] = 'Andres'\n",
    "\n",
    "sports_directory"
   ]
  },
  {
   "cell_type": "code",
   "execution_count": 5,
   "id": "dbe98712",
   "metadata": {},
   "outputs": [
    {
     "data": {
      "text/plain": [
       "[{'x': 10, 'y': 30}]"
      ]
     },
     "execution_count": 5,
     "metadata": {},
     "output_type": "execute_result"
    }
   ],
   "source": [
    "# 1.4 Change the value 20 in z to 30\n",
    "#list of dict\n",
    "z[0]['y'] = 30\n",
    "\n",
    "z"
   ]
  },
  {
   "cell_type": "markdown",
   "id": "437c7102",
   "metadata": {},
   "source": [
    " #### 2. Iterate Through a List of Dictionaries"
   ]
  },
  {
   "cell_type": "code",
   "execution_count": 6,
   "id": "ebc9ee12",
   "metadata": {},
   "outputs": [
    {
     "name": "stdout",
     "output_type": "stream",
     "text": [
      "first_name - Micheal, last_name - Jordan\n",
      "first_name - John, last_name - Rosles\n",
      "first_name - Mark, last_name - Guillen\n",
      "first_name - KB, last_name - Tonel\n"
     ]
    }
   ],
   "source": [
    "# Create a function iterateDictionary(some_list), that loops through each dictionary in the list\n",
    "#and prints each key and the associated value.\n",
    "\n",
    "students = [\n",
    "    {'first_name': 'Micheal', 'last_name': 'Jordan'},\n",
    "     {'first_name': 'John', 'last_name': 'Rosles'},\n",
    "    {'first_name': 'Mark', 'last_name': 'Guillen'},\n",
    "    {'first_name': 'KB', 'last_name': 'Tonel'}\n",
    "]\n",
    "\n",
    "def iterateDictionary(some_list):\n",
    "\n",
    "   for dic in some_list:\n",
    "       print('first_name - %s, last_name - %s' % (dic['first_name'], dic['last_name']))\n",
    "        \n",
    "        \n",
    "iterateDictionary(students)"
   ]
  },
  {
   "cell_type": "markdown",
   "id": "c7fa023a",
   "metadata": {},
   "source": [
    "#### 3. Get Values From a List of Dictionaries"
   ]
  },
  {
   "cell_type": "code",
   "execution_count": 7,
   "id": "e730ec29",
   "metadata": {},
   "outputs": [
    {
     "name": "stdout",
     "output_type": "stream",
     "text": [
      "Micheal\n",
      "John\n",
      "Mark\n",
      "KB\n"
     ]
    }
   ],
   "source": [
    "#Create a function iterateDictionary2(key_name, some_list) that, given a list of dictionaries and a key name,\n",
    "#the function prints the value stored in that key for each dictionary.\n",
    "\n",
    "\n",
    "def iterateDictionary2(key_name, some_list):\n",
    "    for dic in some_list:\n",
    "       print(dic[key_name])\n",
    "    \n",
    "    \n",
    "iterateDictionary2('first_name', students)"
   ]
  },
  {
   "cell_type": "markdown",
   "id": "04d6d332",
   "metadata": {},
   "source": [
    " #### 4. Iterate Through a Dictionary with List Values"
   ]
  },
  {
   "cell_type": "code",
   "execution_count": 8,
   "id": "6082f116",
   "metadata": {},
   "outputs": [
    {
     "name": "stdout",
     "output_type": "stream",
     "text": [
      "7 locations\n",
      "San Jose\n",
      "Seattle\n",
      "Dallas\n",
      "Chicago\n",
      "Tulsa\n",
      "DC\n",
      "Burbank\n",
      "8 instructors\n",
      "Michael\n",
      "Amy\n",
      "Eduardo\n",
      "Josh\n",
      "Graham\n",
      "Patrick\n",
      "Minh\n",
      "Devon\n"
     ]
    }
   ],
   "source": [
    "#Create a function printInfo(some_dict) that given a dictionary whose values are all lists, \n",
    "#prints the name of each key along with the size of its list, and then prints the associated values within each key's list.\n",
    "\n",
    "dojo = {\n",
    "    'locations': ['San Jose', 'Seattle', 'Dallas', 'Chicago', 'Tulsa', 'DC', 'Burbank'],\n",
    "    'instructors': ['Michael', 'Amy', 'Eduardo', 'Josh', 'Graham', 'Patrick', 'Minh', 'Devon']\n",
    "}\n",
    "def printInfo(some_dict):\n",
    "    \n",
    "     for dic in some_dict:\n",
    "        print(len(some_dict[dic]), dic)\n",
    "        for val in some_dict[dic]:\n",
    "            print(val)\n",
    "            \n",
    "        \n",
    "    \n",
    "printInfo(dojo)"
   ]
  }
 ],
 "metadata": {
  "kernelspec": {
   "display_name": "Python 3 (ipykernel)",
   "language": "python",
   "name": "python3"
  },
  "language_info": {
   "codemirror_mode": {
    "name": "ipython",
    "version": 3
   },
   "file_extension": ".py",
   "mimetype": "text/x-python",
   "name": "python",
   "nbconvert_exporter": "python",
   "pygments_lexer": "ipython3",
   "version": "3.9.12"
  }
 },
 "nbformat": 4,
 "nbformat_minor": 5
}
